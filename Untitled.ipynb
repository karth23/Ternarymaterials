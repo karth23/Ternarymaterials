{
 "cells": [
  {
   "cell_type": "code",
   "execution_count": 192,
   "metadata": {
    "collapsed": true
   },
   "outputs": [],
   "source": [
    "import pandas as pd, seaborn as sns, numpy as np, matplotlib.pyplot as plt\n",
    "from pandas import DataFrame"
   ]
  },
  {
   "cell_type": "code",
   "execution_count": 193,
   "metadata": {
    "collapsed": true
   },
   "outputs": [],
   "source": [
    "df = pd.read_excel(\"output_notselected.xlsx\")\n"
   ]
  },
  {
   "cell_type": "code",
   "execution_count": 194,
   "metadata": {
    "collapsed": true
   },
   "outputs": [],
   "source": [
    "df_topredict = pd.read_excel(\"output_tobepredicted.xlsx\")"
   ]
  },
  {
   "cell_type": "code",
   "execution_count": 195,
   "metadata": {
    "collapsed": true
   },
   "outputs": [],
   "source": [
    "df_cpy = df.copy()"
   ]
  },
  {
   "cell_type": "code",
   "execution_count": 196,
   "metadata": {},
   "outputs": [
    {
     "data": {
      "text/html": [
       "<div>\n",
       "<table border=\"1\" class=\"dataframe\">\n",
       "  <thead>\n",
       "    <tr style=\"text-align: right;\">\n",
       "      <th></th>\n",
       "      <th>Composition</th>\n",
       "      <th>A</th>\n",
       "      <th>B</th>\n",
       "      <th>C</th>\n",
       "      <th>structure</th>\n",
       "      <th>#of A atoms</th>\n",
       "      <th>#of B atoms</th>\n",
       "      <th>Group no of A</th>\n",
       "      <th>Group no of B</th>\n",
       "      <th>A:B</th>\n",
       "      <th>...</th>\n",
       "      <th>Atomic number of A</th>\n",
       "      <th>Atomic number of B</th>\n",
       "      <th>NN_A_native</th>\n",
       "      <th>NN_B_native</th>\n",
       "      <th>#of B neigh for A</th>\n",
       "      <th>#of A neigh for B</th>\n",
       "      <th>#of A neigh for N</th>\n",
       "      <th>#of B neigh for N</th>\n",
       "      <th>isNclosepacked</th>\n",
       "      <th>isMpacked</th>\n",
       "    </tr>\n",
       "  </thead>\n",
       "  <tbody>\n",
       "    <tr>\n",
       "      <th>0</th>\n",
       "      <td>Sc3Ti1</td>\n",
       "      <td>Sc</td>\n",
       "      <td>Ti</td>\n",
       "      <td>N</td>\n",
       "      <td>hcpmetal</td>\n",
       "      <td>3</td>\n",
       "      <td>1</td>\n",
       "      <td>3</td>\n",
       "      <td>4</td>\n",
       "      <td>3.0</td>\n",
       "      <td>...</td>\n",
       "      <td>21</td>\n",
       "      <td>22</td>\n",
       "      <td>6</td>\n",
       "      <td>6</td>\n",
       "      <td>3</td>\n",
       "      <td>6</td>\n",
       "      <td>3</td>\n",
       "      <td>3</td>\n",
       "      <td>0</td>\n",
       "      <td>1</td>\n",
       "    </tr>\n",
       "    <tr>\n",
       "      <th>1</th>\n",
       "      <td>Sc3Ti1</td>\n",
       "      <td>Sc</td>\n",
       "      <td>Ti</td>\n",
       "      <td>N</td>\n",
       "      <td>hcpnitrogen</td>\n",
       "      <td>3</td>\n",
       "      <td>1</td>\n",
       "      <td>3</td>\n",
       "      <td>4</td>\n",
       "      <td>3.0</td>\n",
       "      <td>...</td>\n",
       "      <td>21</td>\n",
       "      <td>22</td>\n",
       "      <td>6</td>\n",
       "      <td>6</td>\n",
       "      <td>1</td>\n",
       "      <td>2</td>\n",
       "      <td>3</td>\n",
       "      <td>3</td>\n",
       "      <td>1</td>\n",
       "      <td>0</td>\n",
       "    </tr>\n",
       "    <tr>\n",
       "      <th>2</th>\n",
       "      <td>Sc2Ti2</td>\n",
       "      <td>Sc</td>\n",
       "      <td>Ti</td>\n",
       "      <td>N</td>\n",
       "      <td>rs</td>\n",
       "      <td>2</td>\n",
       "      <td>2</td>\n",
       "      <td>3</td>\n",
       "      <td>4</td>\n",
       "      <td>1.0</td>\n",
       "      <td>...</td>\n",
       "      <td>21</td>\n",
       "      <td>22</td>\n",
       "      <td>6</td>\n",
       "      <td>6</td>\n",
       "      <td>8</td>\n",
       "      <td>8</td>\n",
       "      <td>4</td>\n",
       "      <td>4</td>\n",
       "      <td>1</td>\n",
       "      <td>1</td>\n",
       "    </tr>\n",
       "    <tr>\n",
       "      <th>3</th>\n",
       "      <td>Sc2Ti2</td>\n",
       "      <td>Sc</td>\n",
       "      <td>Ti</td>\n",
       "      <td>N</td>\n",
       "      <td>hcpmetal</td>\n",
       "      <td>2</td>\n",
       "      <td>2</td>\n",
       "      <td>3</td>\n",
       "      <td>4</td>\n",
       "      <td>1.0</td>\n",
       "      <td>...</td>\n",
       "      <td>21</td>\n",
       "      <td>22</td>\n",
       "      <td>6</td>\n",
       "      <td>6</td>\n",
       "      <td>6</td>\n",
       "      <td>6</td>\n",
       "      <td>3</td>\n",
       "      <td>3</td>\n",
       "      <td>0</td>\n",
       "      <td>1</td>\n",
       "    </tr>\n",
       "    <tr>\n",
       "      <th>4</th>\n",
       "      <td>Sc2Ti2</td>\n",
       "      <td>Sc</td>\n",
       "      <td>Ti</td>\n",
       "      <td>N</td>\n",
       "      <td>sh</td>\n",
       "      <td>2</td>\n",
       "      <td>2</td>\n",
       "      <td>3</td>\n",
       "      <td>4</td>\n",
       "      <td>1.0</td>\n",
       "      <td>...</td>\n",
       "      <td>21</td>\n",
       "      <td>22</td>\n",
       "      <td>6</td>\n",
       "      <td>6</td>\n",
       "      <td>2</td>\n",
       "      <td>2</td>\n",
       "      <td>3</td>\n",
       "      <td>3</td>\n",
       "      <td>0</td>\n",
       "      <td>0</td>\n",
       "    </tr>\n",
       "  </tbody>\n",
       "</table>\n",
       "<p>5 rows × 35 columns</p>\n",
       "</div>"
      ],
      "text/plain": [
       "  Composition   A   B  C    structure  #of A atoms  #of B atoms  \\\n",
       "0      Sc3Ti1  Sc  Ti  N     hcpmetal            3            1   \n",
       "1      Sc3Ti1  Sc  Ti  N  hcpnitrogen            3            1   \n",
       "2      Sc2Ti2  Sc  Ti  N           rs            2            2   \n",
       "3      Sc2Ti2  Sc  Ti  N     hcpmetal            2            2   \n",
       "4      Sc2Ti2  Sc  Ti  N           sh            2            2   \n",
       "\n",
       "   Group no of A  Group no of B  A:B    ...      Atomic number of A  \\\n",
       "0              3              4  3.0    ...                      21   \n",
       "1              3              4  3.0    ...                      21   \n",
       "2              3              4  1.0    ...                      21   \n",
       "3              3              4  1.0    ...                      21   \n",
       "4              3              4  1.0    ...                      21   \n",
       "\n",
       "   Atomic number of B  NN_A_native  NN_B_native  #of B neigh for A  \\\n",
       "0                  22            6            6                  3   \n",
       "1                  22            6            6                  1   \n",
       "2                  22            6            6                  8   \n",
       "3                  22            6            6                  6   \n",
       "4                  22            6            6                  2   \n",
       "\n",
       "   #of A neigh for B  #of A neigh for N  #of B neigh for N  isNclosepacked  \\\n",
       "0                  6                  3                  3               0   \n",
       "1                  2                  3                  3               1   \n",
       "2                  8                  4                  4               1   \n",
       "3                  6                  3                  3               0   \n",
       "4                  2                  3                  3               0   \n",
       "\n",
       "   isMpacked  \n",
       "0          1  \n",
       "1          0  \n",
       "2          1  \n",
       "3          1  \n",
       "4          0  \n",
       "\n",
       "[5 rows x 35 columns]"
      ]
     },
     "execution_count": 196,
     "metadata": {},
     "output_type": "execute_result"
    }
   ],
   "source": [
    "df_topredict.head()"
   ]
  },
  {
   "cell_type": "code",
   "execution_count": 197,
   "metadata": {},
   "outputs": [
    {
     "data": {
      "text/html": [
       "<div>\n",
       "<table border=\"1\" class=\"dataframe\">\n",
       "  <thead>\n",
       "    <tr style=\"text-align: right;\">\n",
       "      <th></th>\n",
       "      <th>Composition</th>\n",
       "      <th>A</th>\n",
       "      <th>B</th>\n",
       "      <th>C</th>\n",
       "      <th>structure</th>\n",
       "      <th>#of A atoms</th>\n",
       "      <th>#of B atoms</th>\n",
       "      <th>Energy</th>\n",
       "      <th>Group no of A</th>\n",
       "      <th>Group no of B</th>\n",
       "      <th>...</th>\n",
       "      <th>NN_A_native</th>\n",
       "      <th>NN_B_native</th>\n",
       "      <th>#of B neigh for A</th>\n",
       "      <th>#of A neigh for B</th>\n",
       "      <th>#of A neigh for N</th>\n",
       "      <th>#of B neigh for N</th>\n",
       "      <th>isNclosepacked</th>\n",
       "      <th>isMpacked</th>\n",
       "      <th>formationenthalpy</th>\n",
       "      <th>formationenthalpynew</th>\n",
       "    </tr>\n",
       "  </thead>\n",
       "  <tbody>\n",
       "    <tr>\n",
       "      <th>0</th>\n",
       "      <td>ScN</td>\n",
       "      <td>Sc</td>\n",
       "      <td>Sc</td>\n",
       "      <td>N</td>\n",
       "      <td>rs</td>\n",
       "      <td>1</td>\n",
       "      <td>1</td>\n",
       "      <td>-18.390755</td>\n",
       "      <td>3</td>\n",
       "      <td>3</td>\n",
       "      <td>...</td>\n",
       "      <td>6</td>\n",
       "      <td>6</td>\n",
       "      <td>8</td>\n",
       "      <td>8</td>\n",
       "      <td>4</td>\n",
       "      <td>4</td>\n",
       "      <td>1</td>\n",
       "      <td>1</td>\n",
       "      <td>-1.914367</td>\n",
       "      <td>-1.914367</td>\n",
       "    </tr>\n",
       "    <tr>\n",
       "      <th>1</th>\n",
       "      <td>TiN</td>\n",
       "      <td>Ti</td>\n",
       "      <td>Ti</td>\n",
       "      <td>N</td>\n",
       "      <td>rs</td>\n",
       "      <td>1</td>\n",
       "      <td>1</td>\n",
       "      <td>-19.635034</td>\n",
       "      <td>4</td>\n",
       "      <td>4</td>\n",
       "      <td>...</td>\n",
       "      <td>6</td>\n",
       "      <td>6</td>\n",
       "      <td>8</td>\n",
       "      <td>8</td>\n",
       "      <td>4</td>\n",
       "      <td>4</td>\n",
       "      <td>1</td>\n",
       "      <td>1</td>\n",
       "      <td>-1.741117</td>\n",
       "      <td>-1.741117</td>\n",
       "    </tr>\n",
       "    <tr>\n",
       "      <th>2</th>\n",
       "      <td>ZrN</td>\n",
       "      <td>Zr</td>\n",
       "      <td>Zr</td>\n",
       "      <td>N</td>\n",
       "      <td>rs</td>\n",
       "      <td>1</td>\n",
       "      <td>1</td>\n",
       "      <td>-20.337735</td>\n",
       "      <td>4</td>\n",
       "      <td>4</td>\n",
       "      <td>...</td>\n",
       "      <td>6</td>\n",
       "      <td>6</td>\n",
       "      <td>8</td>\n",
       "      <td>8</td>\n",
       "      <td>4</td>\n",
       "      <td>4</td>\n",
       "      <td>1</td>\n",
       "      <td>1</td>\n",
       "      <td>-1.751022</td>\n",
       "      <td>-1.751022</td>\n",
       "    </tr>\n",
       "    <tr>\n",
       "      <th>3</th>\n",
       "      <td>HfN</td>\n",
       "      <td>Hf</td>\n",
       "      <td>Hf</td>\n",
       "      <td>N</td>\n",
       "      <td>rs</td>\n",
       "      <td>1</td>\n",
       "      <td>1</td>\n",
       "      <td>-21.734747</td>\n",
       "      <td>4</td>\n",
       "      <td>4</td>\n",
       "      <td>...</td>\n",
       "      <td>6</td>\n",
       "      <td>6</td>\n",
       "      <td>8</td>\n",
       "      <td>8</td>\n",
       "      <td>4</td>\n",
       "      <td>4</td>\n",
       "      <td>1</td>\n",
       "      <td>1</td>\n",
       "      <td>-1.747373</td>\n",
       "      <td>-1.747373</td>\n",
       "    </tr>\n",
       "    <tr>\n",
       "      <th>4</th>\n",
       "      <td>VN</td>\n",
       "      <td>V</td>\n",
       "      <td>V</td>\n",
       "      <td>N</td>\n",
       "      <td>rs</td>\n",
       "      <td>1</td>\n",
       "      <td>1</td>\n",
       "      <td>-19.301511</td>\n",
       "      <td>5</td>\n",
       "      <td>5</td>\n",
       "      <td>...</td>\n",
       "      <td>8</td>\n",
       "      <td>8</td>\n",
       "      <td>8</td>\n",
       "      <td>8</td>\n",
       "      <td>4</td>\n",
       "      <td>4</td>\n",
       "      <td>1</td>\n",
       "      <td>1</td>\n",
       "      <td>-0.996246</td>\n",
       "      <td>-0.996246</td>\n",
       "    </tr>\n",
       "  </tbody>\n",
       "</table>\n",
       "<p>5 rows × 38 columns</p>\n",
       "</div>"
      ],
      "text/plain": [
       "  Composition   A   B  C structure  #of A atoms  #of B atoms     Energy  \\\n",
       "0         ScN  Sc  Sc  N        rs            1            1 -18.390755   \n",
       "1         TiN  Ti  Ti  N        rs            1            1 -19.635034   \n",
       "2         ZrN  Zr  Zr  N        rs            1            1 -20.337735   \n",
       "3         HfN  Hf  Hf  N        rs            1            1 -21.734747   \n",
       "4          VN   V   V  N        rs            1            1 -19.301511   \n",
       "\n",
       "   Group no of A  Group no of B          ...           NN_A_native  \\\n",
       "0              3              3          ...                     6   \n",
       "1              4              4          ...                     6   \n",
       "2              4              4          ...                     6   \n",
       "3              4              4          ...                     6   \n",
       "4              5              5          ...                     8   \n",
       "\n",
       "   NN_B_native  #of B neigh for A  #of A neigh for B  #of A neigh for N  \\\n",
       "0            6                  8                  8                  4   \n",
       "1            6                  8                  8                  4   \n",
       "2            6                  8                  8                  4   \n",
       "3            6                  8                  8                  4   \n",
       "4            8                  8                  8                  4   \n",
       "\n",
       "   #of B neigh for N  isNclosepacked  isMpacked  formationenthalpy  \\\n",
       "0                  4               1          1          -1.914367   \n",
       "1                  4               1          1          -1.741117   \n",
       "2                  4               1          1          -1.751022   \n",
       "3                  4               1          1          -1.747373   \n",
       "4                  4               1          1          -0.996246   \n",
       "\n",
       "   formationenthalpynew  \n",
       "0             -1.914367  \n",
       "1             -1.741117  \n",
       "2             -1.751022  \n",
       "3             -1.747373  \n",
       "4             -0.996246  \n",
       "\n",
       "[5 rows x 38 columns]"
      ]
     },
     "execution_count": 197,
     "metadata": {},
     "output_type": "execute_result"
    }
   ],
   "source": [
    "df_cpy.head()"
   ]
  },
  {
   "cell_type": "code",
   "execution_count": 198,
   "metadata": {
    "collapsed": true
   },
   "outputs": [],
   "source": [
    "df_cpy = df_cpy.drop(['formationenthalpy'],axis=1)"
   ]
  },
  {
   "cell_type": "code",
   "execution_count": 199,
   "metadata": {},
   "outputs": [],
   "source": [
    "df_cpy = df_cpy.drop(['A','B','C','Energy'],axis=1)"
   ]
  },
  {
   "cell_type": "code",
   "execution_count": 200,
   "metadata": {
    "collapsed": true
   },
   "outputs": [],
   "source": [
    "df_topredict = df_topredict.drop(['A','B','C'],axis=1)"
   ]
  },
  {
   "cell_type": "code",
   "execution_count": 201,
   "metadata": {},
   "outputs": [
    {
     "data": {
      "text/html": [
       "<div>\n",
       "<table border=\"1\" class=\"dataframe\">\n",
       "  <thead>\n",
       "    <tr style=\"text-align: right;\">\n",
       "      <th></th>\n",
       "      <th>Composition</th>\n",
       "      <th>structure</th>\n",
       "      <th>#of A atoms</th>\n",
       "      <th>#of B atoms</th>\n",
       "      <th>Group no of A</th>\n",
       "      <th>Group no of B</th>\n",
       "      <th>A:B</th>\n",
       "      <th>Rownum A</th>\n",
       "      <th>Rownum B</th>\n",
       "      <th>sval A</th>\n",
       "      <th>...</th>\n",
       "      <th>Atomic number of B</th>\n",
       "      <th>NN_A_native</th>\n",
       "      <th>NN_B_native</th>\n",
       "      <th>#of B neigh for A</th>\n",
       "      <th>#of A neigh for B</th>\n",
       "      <th>#of A neigh for N</th>\n",
       "      <th>#of B neigh for N</th>\n",
       "      <th>isNclosepacked</th>\n",
       "      <th>isMpacked</th>\n",
       "      <th>formationenthalpynew</th>\n",
       "    </tr>\n",
       "  </thead>\n",
       "  <tbody>\n",
       "    <tr>\n",
       "      <th>0</th>\n",
       "      <td>ScN</td>\n",
       "      <td>rs</td>\n",
       "      <td>1</td>\n",
       "      <td>1</td>\n",
       "      <td>3</td>\n",
       "      <td>3</td>\n",
       "      <td>1.0</td>\n",
       "      <td>3</td>\n",
       "      <td>3</td>\n",
       "      <td>2</td>\n",
       "      <td>...</td>\n",
       "      <td>21</td>\n",
       "      <td>6</td>\n",
       "      <td>6</td>\n",
       "      <td>8</td>\n",
       "      <td>8</td>\n",
       "      <td>4</td>\n",
       "      <td>4</td>\n",
       "      <td>1</td>\n",
       "      <td>1</td>\n",
       "      <td>-1.914367</td>\n",
       "    </tr>\n",
       "    <tr>\n",
       "      <th>1</th>\n",
       "      <td>TiN</td>\n",
       "      <td>rs</td>\n",
       "      <td>1</td>\n",
       "      <td>1</td>\n",
       "      <td>4</td>\n",
       "      <td>4</td>\n",
       "      <td>1.0</td>\n",
       "      <td>3</td>\n",
       "      <td>3</td>\n",
       "      <td>2</td>\n",
       "      <td>...</td>\n",
       "      <td>22</td>\n",
       "      <td>6</td>\n",
       "      <td>6</td>\n",
       "      <td>8</td>\n",
       "      <td>8</td>\n",
       "      <td>4</td>\n",
       "      <td>4</td>\n",
       "      <td>1</td>\n",
       "      <td>1</td>\n",
       "      <td>-1.741117</td>\n",
       "    </tr>\n",
       "    <tr>\n",
       "      <th>2</th>\n",
       "      <td>ZrN</td>\n",
       "      <td>rs</td>\n",
       "      <td>1</td>\n",
       "      <td>1</td>\n",
       "      <td>4</td>\n",
       "      <td>4</td>\n",
       "      <td>1.0</td>\n",
       "      <td>4</td>\n",
       "      <td>4</td>\n",
       "      <td>2</td>\n",
       "      <td>...</td>\n",
       "      <td>40</td>\n",
       "      <td>6</td>\n",
       "      <td>6</td>\n",
       "      <td>8</td>\n",
       "      <td>8</td>\n",
       "      <td>4</td>\n",
       "      <td>4</td>\n",
       "      <td>1</td>\n",
       "      <td>1</td>\n",
       "      <td>-1.751022</td>\n",
       "    </tr>\n",
       "    <tr>\n",
       "      <th>3</th>\n",
       "      <td>HfN</td>\n",
       "      <td>rs</td>\n",
       "      <td>1</td>\n",
       "      <td>1</td>\n",
       "      <td>4</td>\n",
       "      <td>4</td>\n",
       "      <td>1.0</td>\n",
       "      <td>5</td>\n",
       "      <td>5</td>\n",
       "      <td>0</td>\n",
       "      <td>...</td>\n",
       "      <td>72</td>\n",
       "      <td>6</td>\n",
       "      <td>6</td>\n",
       "      <td>8</td>\n",
       "      <td>8</td>\n",
       "      <td>4</td>\n",
       "      <td>4</td>\n",
       "      <td>1</td>\n",
       "      <td>1</td>\n",
       "      <td>-1.747373</td>\n",
       "    </tr>\n",
       "    <tr>\n",
       "      <th>4</th>\n",
       "      <td>VN</td>\n",
       "      <td>rs</td>\n",
       "      <td>1</td>\n",
       "      <td>1</td>\n",
       "      <td>5</td>\n",
       "      <td>5</td>\n",
       "      <td>1.0</td>\n",
       "      <td>3</td>\n",
       "      <td>3</td>\n",
       "      <td>2</td>\n",
       "      <td>...</td>\n",
       "      <td>23</td>\n",
       "      <td>8</td>\n",
       "      <td>8</td>\n",
       "      <td>8</td>\n",
       "      <td>8</td>\n",
       "      <td>4</td>\n",
       "      <td>4</td>\n",
       "      <td>1</td>\n",
       "      <td>1</td>\n",
       "      <td>-0.996246</td>\n",
       "    </tr>\n",
       "  </tbody>\n",
       "</table>\n",
       "<p>5 rows × 33 columns</p>\n",
       "</div>"
      ],
      "text/plain": [
       "  Composition structure  #of A atoms  #of B atoms  Group no of A  \\\n",
       "0         ScN        rs            1            1              3   \n",
       "1         TiN        rs            1            1              4   \n",
       "2         ZrN        rs            1            1              4   \n",
       "3         HfN        rs            1            1              4   \n",
       "4          VN        rs            1            1              5   \n",
       "\n",
       "   Group no of B  A:B  Rownum A  Rownum B  sval A          ...           \\\n",
       "0              3  1.0         3         3       2          ...            \n",
       "1              4  1.0         3         3       2          ...            \n",
       "2              4  1.0         4         4       2          ...            \n",
       "3              4  1.0         5         5       0          ...            \n",
       "4              5  1.0         3         3       2          ...            \n",
       "\n",
       "   Atomic number of B  NN_A_native  NN_B_native  #of B neigh for A  \\\n",
       "0                  21            6            6                  8   \n",
       "1                  22            6            6                  8   \n",
       "2                  40            6            6                  8   \n",
       "3                  72            6            6                  8   \n",
       "4                  23            8            8                  8   \n",
       "\n",
       "   #of A neigh for B  #of A neigh for N  #of B neigh for N  isNclosepacked  \\\n",
       "0                  8                  4                  4               1   \n",
       "1                  8                  4                  4               1   \n",
       "2                  8                  4                  4               1   \n",
       "3                  8                  4                  4               1   \n",
       "4                  8                  4                  4               1   \n",
       "\n",
       "   isMpacked  formationenthalpynew  \n",
       "0          1             -1.914367  \n",
       "1          1             -1.741117  \n",
       "2          1             -1.751022  \n",
       "3          1             -1.747373  \n",
       "4          1             -0.996246  \n",
       "\n",
       "[5 rows x 33 columns]"
      ]
     },
     "execution_count": 201,
     "metadata": {},
     "output_type": "execute_result"
    }
   ],
   "source": [
    "df_cpy.head()"
   ]
  },
  {
   "cell_type": "code",
   "execution_count": 223,
   "metadata": {
    "collapsed": true
   },
   "outputs": [],
   "source": [
    "frame=[df_cpy,df_topredict]"
   ]
  },
  {
   "cell_type": "code",
   "execution_count": 224,
   "metadata": {},
   "outputs": [],
   "source": [
    "df_total = pd.concat(frame)"
   ]
  },
  {
   "cell_type": "code",
   "execution_count": 228,
   "metadata": {},
   "outputs": [
    {
     "data": {
      "text/plain": [
       "<matplotlib.axes._subplots.AxesSubplot at 0x7f31aeeece10>"
      ]
     },
     "execution_count": 228,
     "metadata": {},
     "output_type": "execute_result"
    }
   ],
   "source": [
    "sns.distplot(df_total['VEC'],bins=10,kde=False)"
   ]
  },
  {
   "cell_type": "code",
   "execution_count": 229,
   "metadata": {},
   "outputs": [
    {
     "data": {
      "text/plain": [
       "<matplotlib.text.Text at 0x7f31aee55d50>"
      ]
     },
     "execution_count": 229,
     "metadata": {},
     "output_type": "execute_result"
    }
   ],
   "source": [
    "plt.ylabel(\"# of samples\")"
   ]
  },
  {
   "cell_type": "code",
   "execution_count": 230,
   "metadata": {},
   "outputs": [
    {
     "data": {
      "text/plain": [
       "<matplotlib.text.Text at 0x7f31aedeaa90>"
      ]
     },
     "execution_count": 230,
     "metadata": {},
     "output_type": "execute_result"
    }
   ],
   "source": [
    "plt.title(\"VEC of total samples\")"
   ]
  },
  {
   "cell_type": "code",
   "execution_count": 231,
   "metadata": {},
   "outputs": [
    {
     "data": {
      "image/png": "[encoded data removed]",
      "text/plain": [
       "<matplotlib.figure.Figure at 0x7f31aee9a750>"
      ]
     },
     "metadata": {},
     "output_type": "display_data"
    }
   ],
   "source": [
    "plt.show()"
   ]
  },
  {
   "cell_type": "code",
   "execution_count": null,
   "metadata": {
    "collapsed": true
   },
   "outputs": [],
   "source": []
  },
  {
   "cell_type": "code",
   "execution_count": 232,
   "metadata": {},
   "outputs": [
    {
     "data": {
      "text/plain": [
       "<matplotlib.axes._subplots.AxesSubplot at 0x7f31aee09190>"
      ]
     },
     "execution_count": 232,
     "metadata": {},
     "output_type": "execute_result"
    }
   ],
   "source": [
    "sns.distplot(df_cpy['VEC'],bins=10,kde=False)"
   ]
  },
  {
   "cell_type": "code",
   "execution_count": 233,
   "metadata": {},
   "outputs": [
    {
     "data": {
      "text/plain": [
       "<matplotlib.text.Text at 0x7f31aeea7fd0>"
      ]
     },
     "execution_count": 233,
     "metadata": {},
     "output_type": "execute_result"
    }
   ],
   "source": [
    "plt.ylabel(\"# of samples\")"
   ]
  },
  {
   "cell_type": "code",
   "execution_count": 236,
   "metadata": {},
   "outputs": [
    {
     "data": {
      "text/plain": [
       "<matplotlib.text.Text at 0x7f31aebfa9d0>"
      ]
     },
     "execution_count": 236,
     "metadata": {},
     "output_type": "execute_result"
    }
   ],
   "source": [
    "plt.title(\"VEC of samples used for training\")"
   ]
  },
  {
   "cell_type": "code",
   "execution_count": 235,
   "metadata": {},
   "outputs": [
    {
     "data": {
      "image/png": "[encoded data removed]",
      "text/plain": [
       "<matplotlib.figure.Figure at 0x7f31aed94610>"
      ]
     },
     "metadata": {},
     "output_type": "display_data"
    }
   ],
   "source": [
    "plt.show()"
   ]
  },
  {
   "cell_type": "code",
   "execution_count": 242,
   "metadata": {},
   "outputs": [
    {
     "data": {
      "text/plain": [
       "<matplotlib.axes._subplots.AxesSubplot at 0x7f31aec26a10>"
      ]
     },
     "execution_count": 242,
     "metadata": {},
     "output_type": "execute_result"
    }
   ],
   "source": [
    "sns.distplot(df_topredict['VEC'],bins=10,kde=False)"
   ]
  },
  {
   "cell_type": "code",
   "execution_count": 243,
   "metadata": {},
   "outputs": [
    {
     "data": {
      "text/plain": [
       "<matplotlib.text.Text at 0x7f31aebaf3d0>"
      ]
     },
     "execution_count": 243,
     "metadata": {},
     "output_type": "execute_result"
    }
   ],
   "source": [
    "plt.ylabel(\"# of samples\")"
   ]
  },
  {
   "cell_type": "code",
   "execution_count": 244,
   "metadata": {},
   "outputs": [
    {
     "data": {
      "text/plain": [
       "<matplotlib.text.Text at 0x7f31aeb53e90>"
      ]
     },
     "execution_count": 244,
     "metadata": {},
     "output_type": "execute_result"
    }
   ],
   "source": [
    "plt.title(\"VEC of samples to predict\")"
   ]
  },
  {
   "cell_type": "code",
   "execution_count": 240,
   "metadata": {},
   "outputs": [
    {
     "data": {
      "text/plain": [
       "<matplotlib.text.Text at 0x7f31aebfa9d0>"
      ]
     },
     "execution_count": 240,
     "metadata": {},
     "output_type": "execute_result"
    }
   ],
   "source": []
  },
  {
   "cell_type": "code",
   "execution_count": 245,
   "metadata": {},
   "outputs": [
    {
     "data": {
      "image/png": "[encoded data removed]",
      "text/plain": [
       "<matplotlib.figure.Figure at 0x7f31aeb7b4d0>"
      ]
     },
     "metadata": {},
     "output_type": "display_data"
    }
   ],
   "source": [
    "plt.show()"
   ]
  },
  {
   "cell_type": "code",
   "execution_count": null,
   "metadata": {
    "collapsed": true
   },
   "outputs": [],
   "source": []
  },
  {
   "cell_type": "code",
   "execution_count": null,
   "metadata": {
    "collapsed": true
   },
   "outputs": [],
   "source": []
  },
  {
   "cell_type": "code",
   "execution_count": 246,
   "metadata": {
    "collapsed": true
   },
   "outputs": [],
   "source": [
    "enthalpy = df_cpy['formationenthalpynew']"
   ]
  },
  {
   "cell_type": "code",
   "execution_count": 247,
   "metadata": {
    "collapsed": true
   },
   "outputs": [],
   "source": [
    "df_cpy = df_cpy.drop(['formationenthalpynew'],axis=1)"
   ]
  },
  {
   "cell_type": "code",
   "execution_count": 248,
   "metadata": {},
   "outputs": [
    {
     "name": "stdout",
     "output_type": "stream",
     "text": [
      "<class 'pandas.core.frame.DataFrame'>\n",
      "Int64Index: 292 entries, 0 to 291\n",
      "Data columns (total 32 columns):\n",
      "Composition           292 non-null object\n",
      "structure             292 non-null object\n",
      "#of A atoms           292 non-null int64\n",
      "#of B atoms           292 non-null int64\n",
      "Group no of A         292 non-null int64\n",
      "Group no of B         292 non-null int64\n",
      "A:B                   292 non-null float64\n",
      "Rownum A              292 non-null int64\n",
      "Rownum B              292 non-null int64\n",
      "sval A                292 non-null int64\n",
      "sval B                292 non-null int64\n",
      "dval A                292 non-null int64\n",
      "dval B                292 non-null int64\n",
      "VEC                   292 non-null float64\n",
      "electroneg A          292 non-null float64\n",
      "electroneg B          292 non-null float64\n",
      "radA                  292 non-null int64\n",
      "radB                  292 non-null int64\n",
      "cradA                 292 non-null int64\n",
      "cradB                 292 non-null int64\n",
      "Mmass A               292 non-null int64\n",
      "Mmass B               292 non-null int64\n",
      "Atomic number of A    292 non-null int64\n",
      "Atomic number of B    292 non-null int64\n",
      "NN_A_native           292 non-null int64\n",
      "NN_B_native           292 non-null int64\n",
      "#of B neigh for A     292 non-null int64\n",
      "#of A neigh for B     292 non-null int64\n",
      "#of A neigh for N     292 non-null int64\n",
      "#of B neigh for N     292 non-null int64\n",
      "isNclosepacked        292 non-null int64\n",
      "isMpacked             292 non-null int64\n",
      "dtypes: float64(4), int64(26), object(2)\n",
      "memory usage: 75.3+ KB\n"
     ]
    }
   ],
   "source": [
    "df_cpy.info()"
   ]
  },
  {
   "cell_type": "code",
   "execution_count": 249,
   "metadata": {
    "collapsed": true
   },
   "outputs": [],
   "source": [
    "structute_mapping = {'rs':1,'hcpmetal':2,'hcpnitrogen':3,'sh':4}\n"
   ]
  },
  {
   "cell_type": "code",
   "execution_count": 250,
   "metadata": {},
   "outputs": [],
   "source": [
    "df_cpy['mappedstructure']=df_cpy['structure'].map(structute_mapping)"
   ]
  },
  {
   "cell_type": "code",
   "execution_count": 251,
   "metadata": {
    "collapsed": true
   },
   "outputs": [],
   "source": [
    "df_topredict['mappedstructure'] = df_topredict['structure'].map(structute_mapping)"
   ]
  },
  {
   "cell_type": "code",
   "execution_count": 252,
   "metadata": {
    "collapsed": true
   },
   "outputs": [],
   "source": [
    "one_hot = pd.get_dummies(df_cpy['mappedstructure'])"
   ]
  },
  {
   "cell_type": "code",
   "execution_count": 253,
   "metadata": {
    "collapsed": true
   },
   "outputs": [],
   "source": [
    "one_hot_topredict = pd.get_dummies(df_topredict['mappedstructure'])"
   ]
  },
  {
   "cell_type": "code",
   "execution_count": 254,
   "metadata": {
    "collapsed": true
   },
   "outputs": [],
   "source": [
    "df_cpy = df_cpy.join(one_hot) "
   ]
  },
  {
   "cell_type": "code",
   "execution_count": 255,
   "metadata": {
    "collapsed": true
   },
   "outputs": [],
   "source": [
    "df_topredict = df_topredict.join(one_hot)"
   ]
  },
  {
   "cell_type": "code",
   "execution_count": 256,
   "metadata": {},
   "outputs": [
    {
     "data": {
      "text/html": [
       "<div>\n",
       "<table border=\"1\" class=\"dataframe\">\n",
       "  <thead>\n",
       "    <tr style=\"text-align: right;\">\n",
       "      <th></th>\n",
       "      <th>Composition</th>\n",
       "      <th>structure</th>\n",
       "      <th>#of A atoms</th>\n",
       "      <th>#of B atoms</th>\n",
       "      <th>Group no of A</th>\n",
       "      <th>Group no of B</th>\n",
       "      <th>A:B</th>\n",
       "      <th>Rownum A</th>\n",
       "      <th>Rownum B</th>\n",
       "      <th>sval A</th>\n",
       "      <th>...</th>\n",
       "      <th>#of A neigh for B</th>\n",
       "      <th>#of A neigh for N</th>\n",
       "      <th>#of B neigh for N</th>\n",
       "      <th>isNclosepacked</th>\n",
       "      <th>isMpacked</th>\n",
       "      <th>mappedstructure</th>\n",
       "      <th>1</th>\n",
       "      <th>2</th>\n",
       "      <th>3</th>\n",
       "      <th>4</th>\n",
       "    </tr>\n",
       "  </thead>\n",
       "  <tbody>\n",
       "    <tr>\n",
       "      <th>0</th>\n",
       "      <td>ScN</td>\n",
       "      <td>rs</td>\n",
       "      <td>1</td>\n",
       "      <td>1</td>\n",
       "      <td>3</td>\n",
       "      <td>3</td>\n",
       "      <td>1.0</td>\n",
       "      <td>3</td>\n",
       "      <td>3</td>\n",
       "      <td>2</td>\n",
       "      <td>...</td>\n",
       "      <td>8</td>\n",
       "      <td>4</td>\n",
       "      <td>4</td>\n",
       "      <td>1</td>\n",
       "      <td>1</td>\n",
       "      <td>1</td>\n",
       "      <td>1</td>\n",
       "      <td>0</td>\n",
       "      <td>0</td>\n",
       "      <td>0</td>\n",
       "    </tr>\n",
       "    <tr>\n",
       "      <th>1</th>\n",
       "      <td>TiN</td>\n",
       "      <td>rs</td>\n",
       "      <td>1</td>\n",
       "      <td>1</td>\n",
       "      <td>4</td>\n",
       "      <td>4</td>\n",
       "      <td>1.0</td>\n",
       "      <td>3</td>\n",
       "      <td>3</td>\n",
       "      <td>2</td>\n",
       "      <td>...</td>\n",
       "      <td>8</td>\n",
       "      <td>4</td>\n",
       "      <td>4</td>\n",
       "      <td>1</td>\n",
       "      <td>1</td>\n",
       "      <td>1</td>\n",
       "      <td>1</td>\n",
       "      <td>0</td>\n",
       "      <td>0</td>\n",
       "      <td>0</td>\n",
       "    </tr>\n",
       "    <tr>\n",
       "      <th>2</th>\n",
       "      <td>ZrN</td>\n",
       "      <td>rs</td>\n",
       "      <td>1</td>\n",
       "      <td>1</td>\n",
       "      <td>4</td>\n",
       "      <td>4</td>\n",
       "      <td>1.0</td>\n",
       "      <td>4</td>\n",
       "      <td>4</td>\n",
       "      <td>2</td>\n",
       "      <td>...</td>\n",
       "      <td>8</td>\n",
       "      <td>4</td>\n",
       "      <td>4</td>\n",
       "      <td>1</td>\n",
       "      <td>1</td>\n",
       "      <td>1</td>\n",
       "      <td>1</td>\n",
       "      <td>0</td>\n",
       "      <td>0</td>\n",
       "      <td>0</td>\n",
       "    </tr>\n",
       "    <tr>\n",
       "      <th>3</th>\n",
       "      <td>HfN</td>\n",
       "      <td>rs</td>\n",
       "      <td>1</td>\n",
       "      <td>1</td>\n",
       "      <td>4</td>\n",
       "      <td>4</td>\n",
       "      <td>1.0</td>\n",
       "      <td>5</td>\n",
       "      <td>5</td>\n",
       "      <td>0</td>\n",
       "      <td>...</td>\n",
       "      <td>8</td>\n",
       "      <td>4</td>\n",
       "      <td>4</td>\n",
       "      <td>1</td>\n",
       "      <td>1</td>\n",
       "      <td>1</td>\n",
       "      <td>1</td>\n",
       "      <td>0</td>\n",
       "      <td>0</td>\n",
       "      <td>0</td>\n",
       "    </tr>\n",
       "    <tr>\n",
       "      <th>4</th>\n",
       "      <td>VN</td>\n",
       "      <td>rs</td>\n",
       "      <td>1</td>\n",
       "      <td>1</td>\n",
       "      <td>5</td>\n",
       "      <td>5</td>\n",
       "      <td>1.0</td>\n",
       "      <td>3</td>\n",
       "      <td>3</td>\n",
       "      <td>2</td>\n",
       "      <td>...</td>\n",
       "      <td>8</td>\n",
       "      <td>4</td>\n",
       "      <td>4</td>\n",
       "      <td>1</td>\n",
       "      <td>1</td>\n",
       "      <td>1</td>\n",
       "      <td>1</td>\n",
       "      <td>0</td>\n",
       "      <td>0</td>\n",
       "      <td>0</td>\n",
       "    </tr>\n",
       "  </tbody>\n",
       "</table>\n",
       "<p>5 rows × 37 columns</p>\n",
       "</div>"
      ],
      "text/plain": [
       "  Composition structure  #of A atoms  #of B atoms  Group no of A  \\\n",
       "0         ScN        rs            1            1              3   \n",
       "1         TiN        rs            1            1              4   \n",
       "2         ZrN        rs            1            1              4   \n",
       "3         HfN        rs            1            1              4   \n",
       "4          VN        rs            1            1              5   \n",
       "\n",
       "   Group no of B  A:B  Rownum A  Rownum B  sval A ...  #of A neigh for B  \\\n",
       "0              3  1.0         3         3       2 ...                  8   \n",
       "1              4  1.0         3         3       2 ...                  8   \n",
       "2              4  1.0         4         4       2 ...                  8   \n",
       "3              4  1.0         5         5       0 ...                  8   \n",
       "4              5  1.0         3         3       2 ...                  8   \n",
       "\n",
       "   #of A neigh for N  #of B neigh for N  isNclosepacked  isMpacked  \\\n",
       "0                  4                  4               1          1   \n",
       "1                  4                  4               1          1   \n",
       "2                  4                  4               1          1   \n",
       "3                  4                  4               1          1   \n",
       "4                  4                  4               1          1   \n",
       "\n",
       "   mappedstructure  1  2  3  4  \n",
       "0                1  1  0  0  0  \n",
       "1                1  1  0  0  0  \n",
       "2                1  1  0  0  0  \n",
       "3                1  1  0  0  0  \n",
       "4                1  1  0  0  0  \n",
       "\n",
       "[5 rows x 37 columns]"
      ]
     },
     "execution_count": 256,
     "metadata": {},
     "output_type": "execute_result"
    }
   ],
   "source": [
    "df_cpy.head()"
   ]
  },
  {
   "cell_type": "code",
   "execution_count": 257,
   "metadata": {
    "collapsed": true
   },
   "outputs": [],
   "source": [
    "df_cpy.rename(columns={1: 'isrs', 2: 'ishcpmetal',3: 'ishcpnitrogen',4: 'issh'},inplace=True)"
   ]
  },
  {
   "cell_type": "code",
   "execution_count": 258,
   "metadata": {
    "collapsed": true
   },
   "outputs": [],
   "source": [
    "df_topredict.rename(columns={1: 'isrs', 2: 'ishcpmetal',3: 'ishcpnitrogen',4: 'issh'},inplace=True)"
   ]
  },
  {
   "cell_type": "code",
   "execution_count": 259,
   "metadata": {
    "collapsed": true
   },
   "outputs": [],
   "source": [
    "df_cpy = df_cpy.drop(['Composition','structure','mappedstructure','VEC'],axis=1)"
   ]
  },
  {
   "cell_type": "code",
   "execution_count": 260,
   "metadata": {
    "collapsed": true
   },
   "outputs": [],
   "source": [
    "df_topredict = df_topredict.drop(['Composition','structure','mappedstructure','VEC'],axis=1)"
   ]
  },
  {
   "cell_type": "code",
   "execution_count": 261,
   "metadata": {
    "collapsed": true
   },
   "outputs": [],
   "source": [
    "from sklearn.preprocessing import MaxAbsScaler"
   ]
  },
  {
   "cell_type": "code",
   "execution_count": 262,
   "metadata": {
    "collapsed": true
   },
   "outputs": [],
   "source": [
    "scaler = MaxAbsScaler()"
   ]
  },
  {
   "cell_type": "code",
   "execution_count": 263,
   "metadata": {
    "collapsed": true
   },
   "outputs": [],
   "source": [
    "df_transformed = scaler.fit_transform(df_cpy)"
   ]
  },
  {
   "cell_type": "code",
   "execution_count": 264,
   "metadata": {
    "collapsed": true
   },
   "outputs": [],
   "source": [
    "df_transformed_topredict = scaler.fit_transform(df_topredict)"
   ]
  },
  {
   "cell_type": "code",
   "execution_count": 265,
   "metadata": {
    "collapsed": true
   },
   "outputs": [],
   "source": [
    "df_transformed_dataframe = DataFrame(df_transformed,columns=df_cpy.columns)\n",
    "\n"
   ]
  },
  {
   "cell_type": "code",
   "execution_count": 266,
   "metadata": {
    "collapsed": true
   },
   "outputs": [],
   "source": [
    "df_transformed_dataframe_topredict = DataFrame(df_transformed_topredict,columns=df_topredict.columns)"
   ]
  },
  {
   "cell_type": "code",
   "execution_count": 267,
   "metadata": {},
   "outputs": [
    {
     "data": {
      "text/html": [
       "<div>\n",
       "<table border=\"1\" class=\"dataframe\">\n",
       "  <thead>\n",
       "    <tr style=\"text-align: right;\">\n",
       "      <th></th>\n",
       "      <th>#of A atoms</th>\n",
       "      <th>#of B atoms</th>\n",
       "      <th>Group no of A</th>\n",
       "      <th>Group no of B</th>\n",
       "      <th>A:B</th>\n",
       "      <th>Rownum A</th>\n",
       "      <th>Rownum B</th>\n",
       "      <th>sval A</th>\n",
       "      <th>sval B</th>\n",
       "      <th>dval A</th>\n",
       "      <th>...</th>\n",
       "      <th>#of B neigh for A</th>\n",
       "      <th>#of A neigh for B</th>\n",
       "      <th>#of A neigh for N</th>\n",
       "      <th>#of B neigh for N</th>\n",
       "      <th>isNclosepacked</th>\n",
       "      <th>isMpacked</th>\n",
       "      <th>isrs</th>\n",
       "      <th>ishcpmetal</th>\n",
       "      <th>ishcpnitrogen</th>\n",
       "      <th>issh</th>\n",
       "    </tr>\n",
       "  </thead>\n",
       "  <tbody>\n",
       "    <tr>\n",
       "      <th>0</th>\n",
       "      <td>0.25</td>\n",
       "      <td>0.25</td>\n",
       "      <td>0.500000</td>\n",
       "      <td>0.500000</td>\n",
       "      <td>0.333333</td>\n",
       "      <td>0.6</td>\n",
       "      <td>0.6</td>\n",
       "      <td>1.0</td>\n",
       "      <td>1.0</td>\n",
       "      <td>0.500000</td>\n",
       "      <td>...</td>\n",
       "      <td>0.666667</td>\n",
       "      <td>0.666667</td>\n",
       "      <td>1.0</td>\n",
       "      <td>1.0</td>\n",
       "      <td>1.0</td>\n",
       "      <td>1.0</td>\n",
       "      <td>1.0</td>\n",
       "      <td>0.0</td>\n",
       "      <td>0.0</td>\n",
       "      <td>0.0</td>\n",
       "    </tr>\n",
       "    <tr>\n",
       "      <th>1</th>\n",
       "      <td>0.25</td>\n",
       "      <td>0.25</td>\n",
       "      <td>0.666667</td>\n",
       "      <td>0.666667</td>\n",
       "      <td>0.333333</td>\n",
       "      <td>0.6</td>\n",
       "      <td>0.6</td>\n",
       "      <td>1.0</td>\n",
       "      <td>1.0</td>\n",
       "      <td>0.666667</td>\n",
       "      <td>...</td>\n",
       "      <td>0.666667</td>\n",
       "      <td>0.666667</td>\n",
       "      <td>1.0</td>\n",
       "      <td>1.0</td>\n",
       "      <td>1.0</td>\n",
       "      <td>1.0</td>\n",
       "      <td>1.0</td>\n",
       "      <td>0.0</td>\n",
       "      <td>0.0</td>\n",
       "      <td>0.0</td>\n",
       "    </tr>\n",
       "    <tr>\n",
       "      <th>2</th>\n",
       "      <td>0.25</td>\n",
       "      <td>0.25</td>\n",
       "      <td>0.666667</td>\n",
       "      <td>0.666667</td>\n",
       "      <td>0.333333</td>\n",
       "      <td>0.8</td>\n",
       "      <td>0.8</td>\n",
       "      <td>1.0</td>\n",
       "      <td>1.0</td>\n",
       "      <td>0.666667</td>\n",
       "      <td>...</td>\n",
       "      <td>0.666667</td>\n",
       "      <td>0.666667</td>\n",
       "      <td>1.0</td>\n",
       "      <td>1.0</td>\n",
       "      <td>1.0</td>\n",
       "      <td>1.0</td>\n",
       "      <td>1.0</td>\n",
       "      <td>0.0</td>\n",
       "      <td>0.0</td>\n",
       "      <td>0.0</td>\n",
       "    </tr>\n",
       "    <tr>\n",
       "      <th>3</th>\n",
       "      <td>0.25</td>\n",
       "      <td>0.25</td>\n",
       "      <td>0.666667</td>\n",
       "      <td>0.666667</td>\n",
       "      <td>0.333333</td>\n",
       "      <td>1.0</td>\n",
       "      <td>1.0</td>\n",
       "      <td>0.0</td>\n",
       "      <td>0.0</td>\n",
       "      <td>0.666667</td>\n",
       "      <td>...</td>\n",
       "      <td>0.666667</td>\n",
       "      <td>0.666667</td>\n",
       "      <td>1.0</td>\n",
       "      <td>1.0</td>\n",
       "      <td>1.0</td>\n",
       "      <td>1.0</td>\n",
       "      <td>1.0</td>\n",
       "      <td>0.0</td>\n",
       "      <td>0.0</td>\n",
       "      <td>0.0</td>\n",
       "    </tr>\n",
       "    <tr>\n",
       "      <th>4</th>\n",
       "      <td>0.25</td>\n",
       "      <td>0.25</td>\n",
       "      <td>0.833333</td>\n",
       "      <td>0.833333</td>\n",
       "      <td>0.333333</td>\n",
       "      <td>0.6</td>\n",
       "      <td>0.6</td>\n",
       "      <td>1.0</td>\n",
       "      <td>1.0</td>\n",
       "      <td>0.833333</td>\n",
       "      <td>...</td>\n",
       "      <td>0.666667</td>\n",
       "      <td>0.666667</td>\n",
       "      <td>1.0</td>\n",
       "      <td>1.0</td>\n",
       "      <td>1.0</td>\n",
       "      <td>1.0</td>\n",
       "      <td>1.0</td>\n",
       "      <td>0.0</td>\n",
       "      <td>0.0</td>\n",
       "      <td>0.0</td>\n",
       "    </tr>\n",
       "  </tbody>\n",
       "</table>\n",
       "<p>5 rows × 33 columns</p>\n",
       "</div>"
      ],
      "text/plain": [
       "   #of A atoms  #of B atoms  Group no of A  Group no of B       A:B  Rownum A  \\\n",
       "0         0.25         0.25       0.500000       0.500000  0.333333       0.6   \n",
       "1         0.25         0.25       0.666667       0.666667  0.333333       0.6   \n",
       "2         0.25         0.25       0.666667       0.666667  0.333333       0.8   \n",
       "3         0.25         0.25       0.666667       0.666667  0.333333       1.0   \n",
       "4         0.25         0.25       0.833333       0.833333  0.333333       0.6   \n",
       "\n",
       "   Rownum B  sval A  sval B    dval A  ...   #of B neigh for A  \\\n",
       "0       0.6     1.0     1.0  0.500000  ...            0.666667   \n",
       "1       0.6     1.0     1.0  0.666667  ...            0.666667   \n",
       "2       0.8     1.0     1.0  0.666667  ...            0.666667   \n",
       "3       1.0     0.0     0.0  0.666667  ...            0.666667   \n",
       "4       0.6     1.0     1.0  0.833333  ...            0.666667   \n",
       "\n",
       "   #of A neigh for B  #of A neigh for N  #of B neigh for N  isNclosepacked  \\\n",
       "0           0.666667                1.0                1.0             1.0   \n",
       "1           0.666667                1.0                1.0             1.0   \n",
       "2           0.666667                1.0                1.0             1.0   \n",
       "3           0.666667                1.0                1.0             1.0   \n",
       "4           0.666667                1.0                1.0             1.0   \n",
       "\n",
       "   isMpacked  isrs  ishcpmetal  ishcpnitrogen  issh  \n",
       "0        1.0   1.0         0.0            0.0   0.0  \n",
       "1        1.0   1.0         0.0            0.0   0.0  \n",
       "2        1.0   1.0         0.0            0.0   0.0  \n",
       "3        1.0   1.0         0.0            0.0   0.0  \n",
       "4        1.0   1.0         0.0            0.0   0.0  \n",
       "\n",
       "[5 rows x 33 columns]"
      ]
     },
     "execution_count": 267,
     "metadata": {},
     "output_type": "execute_result"
    }
   ],
   "source": [
    "df_transformed_dataframe.head()"
   ]
  },
  {
   "cell_type": "code",
   "execution_count": 268,
   "metadata": {},
   "outputs": [],
   "source": [
    "from sklearn.cross_validation import train_test_split"
   ]
  },
  {
   "cell_type": "code",
   "execution_count": 269,
   "metadata": {},
   "outputs": [],
   "source": [
    "from sklearn.cross_validation import train_test_split\n",
    "from sklearn.tree import DecisionTreeRegressor\n",
    "from sklearn.linear_model import LinearRegression\n",
    "from sklearn.naive_bayes import GaussianNB\n",
    "from sklearn.kernel_ridge import KernelRidge\n",
    "from sklearn.svm import SVR\n",
    "from sklearn.neural_network import  MLPRegressor\n",
    "from sklearn.neighbors import KNeighborsRegressor\n",
    "from sklearn.ensemble import RandomForestRegressor\n",
    "\n",
    "X_train_enthalpy,X_test_enthalpy,Y_train_enthalpy,Y_test_enthalpy = train_test_split(df_transformed_dataframe,enthalpy,test_size=0.2,random_state = 42)"
   ]
  },
  {
   "cell_type": "code",
   "execution_count": 270,
   "metadata": {
    "collapsed": true
   },
   "outputs": [],
   "source": [
    "clf_tree_enthalpy = DecisionTreeRegressor(random_state = 42, max_depth=10,min_samples_split=2)\n",
    "#clf_gauss = GaussianNB()\n",
    "clf_kernal_enthalpy = KernelRidge(alpha=1)\n",
    "clf_linear_enthalpy = LinearRegression()\n",
    "clf_svr_enthalpy = SVR()\n",
    "clf_neural_enthalpy = MLPRegressor(hidden_layer_sizes=10, solver=\"sgd\",early_stopping=True)\n",
    "clf_random_enthalpy = RandomForestRegressor(n_estimators=5)"
   ]
  },
  {
   "cell_type": "code",
   "execution_count": 271,
   "metadata": {},
   "outputs": [
    {
     "data": {
      "text/plain": [
       "RandomForestRegressor(bootstrap=True, criterion='mse', max_depth=None,\n",
       "           max_features='auto', max_leaf_nodes=None,\n",
       "           min_impurity_decrease=0.0, min_impurity_split=None,\n",
       "           min_samples_leaf=1, min_samples_split=2,\n",
       "           min_weight_fraction_leaf=0.0, n_estimators=5, n_jobs=1,\n",
       "           oob_score=False, random_state=None, verbose=0, warm_start=False)"
      ]
     },
     "execution_count": 271,
     "metadata": {},
     "output_type": "execute_result"
    }
   ],
   "source": [
    "clf_tree_enthalpy.fit(X_train_enthalpy,Y_train_enthalpy)\n",
    "#clf_gauss.fit(X_train,Y_train)\n",
    "clf_kernal_enthalpy.fit(X_train_enthalpy,Y_train_enthalpy)\n",
    "clf_linear_enthalpy.fit(X_train_enthalpy,Y_train_enthalpy)\n",
    "clf_svr_enthalpy.fit(X_train_enthalpy,Y_train_enthalpy)\n",
    "clf_neural_enthalpy.fit(X_train_enthalpy,Y_train_enthalpy)\n",
    "clf_random_enthalpy.fit(X_train_enthalpy,Y_train_enthalpy)"
   ]
  },
  {
   "cell_type": "code",
   "execution_count": 272,
   "metadata": {
    "collapsed": true
   },
   "outputs": [],
   "source": [
    "pred_tree_enthalpy = clf_tree_enthalpy.predict(X_test_enthalpy)\n",
    "pred_kernal_enthalpy = clf_kernal_enthalpy.predict(X_test_enthalpy)\n",
    "pred_linear_enthalpy = clf_linear_enthalpy.predict(X_test_enthalpy)\n",
    "pred_svr_enthalpy = clf_svr_enthalpy.predict(X_test_enthalpy)\n",
    "pred_neural_enthalpy = clf_neural_enthalpy.predict(X_test_enthalpy)\n",
    "pred_random_enthalpy = clf_random_enthalpy.predict(X_test_enthalpy)"
   ]
  },
  {
   "cell_type": "code",
   "execution_count": 273,
   "metadata": {
    "collapsed": true
   },
   "outputs": [],
   "source": [
    "from sklearn.metrics import mean_squared_error"
   ]
  },
  {
   "cell_type": "code",
   "execution_count": 274,
   "metadata": {},
   "outputs": [
    {
     "name": "stdout",
     "output_type": "stream",
     "text": [
      "0.948495501881\n",
      "0.954391701144\n",
      "0.964938578405\n",
      "0.962055753218\n",
      "0.933108508061\n"
     ]
    }
   ],
   "source": [
    "print(1- mean_squared_error(Y_test_enthalpy,pred_tree_enthalpy))\n",
    "print(1- mean_squared_error(Y_test_enthalpy,pred_kernal_enthalpy))\n",
    "print(1- mean_squared_error(Y_test_enthalpy,pred_linear_enthalpy))\n",
    "print(1- mean_squared_error(Y_test_enthalpy,pred_svr_enthalpy))\n",
    "print(1- mean_squared_error(Y_test_enthalpy,pred_random_enthalpy))"
   ]
  },
  {
   "cell_type": "code",
   "execution_count": 176,
   "metadata": {},
   "outputs": [
    {
     "data": {
      "text/html": [
       "<div>\n",
       "<table border=\"1\" class=\"dataframe\">\n",
       "  <thead>\n",
       "    <tr style=\"text-align: right;\">\n",
       "      <th></th>\n",
       "      <th>#of A atoms</th>\n",
       "      <th>#of B atoms</th>\n",
       "      <th>Group no of A</th>\n",
       "      <th>Group no of B</th>\n",
       "      <th>A:B</th>\n",
       "      <th>Rownum A</th>\n",
       "      <th>Rownum B</th>\n",
       "      <th>sval A</th>\n",
       "      <th>sval B</th>\n",
       "      <th>dval A</th>\n",
       "      <th>...</th>\n",
       "      <th>#of B neigh for A</th>\n",
       "      <th>#of A neigh for B</th>\n",
       "      <th>#of A neigh for N</th>\n",
       "      <th>#of B neigh for N</th>\n",
       "      <th>isNclosepacked</th>\n",
       "      <th>isMpacked</th>\n",
       "      <th>isrs</th>\n",
       "      <th>ishcpmetal</th>\n",
       "      <th>ishcpnitrogen</th>\n",
       "      <th>issh</th>\n",
       "    </tr>\n",
       "  </thead>\n",
       "  <tbody>\n",
       "    <tr>\n",
       "      <th>0</th>\n",
       "      <td>0.25</td>\n",
       "      <td>0.25</td>\n",
       "      <td>0.500000</td>\n",
       "      <td>0.500000</td>\n",
       "      <td>0.333333</td>\n",
       "      <td>0.6</td>\n",
       "      <td>0.6</td>\n",
       "      <td>1.0</td>\n",
       "      <td>1.0</td>\n",
       "      <td>0.500000</td>\n",
       "      <td>...</td>\n",
       "      <td>0.666667</td>\n",
       "      <td>0.666667</td>\n",
       "      <td>1.0</td>\n",
       "      <td>1.0</td>\n",
       "      <td>1.0</td>\n",
       "      <td>1.0</td>\n",
       "      <td>1.0</td>\n",
       "      <td>0.0</td>\n",
       "      <td>0.0</td>\n",
       "      <td>0.0</td>\n",
       "    </tr>\n",
       "    <tr>\n",
       "      <th>1</th>\n",
       "      <td>0.25</td>\n",
       "      <td>0.25</td>\n",
       "      <td>0.666667</td>\n",
       "      <td>0.666667</td>\n",
       "      <td>0.333333</td>\n",
       "      <td>0.6</td>\n",
       "      <td>0.6</td>\n",
       "      <td>1.0</td>\n",
       "      <td>1.0</td>\n",
       "      <td>0.666667</td>\n",
       "      <td>...</td>\n",
       "      <td>0.666667</td>\n",
       "      <td>0.666667</td>\n",
       "      <td>1.0</td>\n",
       "      <td>1.0</td>\n",
       "      <td>1.0</td>\n",
       "      <td>1.0</td>\n",
       "      <td>1.0</td>\n",
       "      <td>0.0</td>\n",
       "      <td>0.0</td>\n",
       "      <td>0.0</td>\n",
       "    </tr>\n",
       "    <tr>\n",
       "      <th>2</th>\n",
       "      <td>0.25</td>\n",
       "      <td>0.25</td>\n",
       "      <td>0.666667</td>\n",
       "      <td>0.666667</td>\n",
       "      <td>0.333333</td>\n",
       "      <td>0.8</td>\n",
       "      <td>0.8</td>\n",
       "      <td>1.0</td>\n",
       "      <td>1.0</td>\n",
       "      <td>0.666667</td>\n",
       "      <td>...</td>\n",
       "      <td>0.666667</td>\n",
       "      <td>0.666667</td>\n",
       "      <td>1.0</td>\n",
       "      <td>1.0</td>\n",
       "      <td>1.0</td>\n",
       "      <td>1.0</td>\n",
       "      <td>1.0</td>\n",
       "      <td>0.0</td>\n",
       "      <td>0.0</td>\n",
       "      <td>0.0</td>\n",
       "    </tr>\n",
       "    <tr>\n",
       "      <th>3</th>\n",
       "      <td>0.25</td>\n",
       "      <td>0.25</td>\n",
       "      <td>0.666667</td>\n",
       "      <td>0.666667</td>\n",
       "      <td>0.333333</td>\n",
       "      <td>1.0</td>\n",
       "      <td>1.0</td>\n",
       "      <td>0.0</td>\n",
       "      <td>0.0</td>\n",
       "      <td>0.666667</td>\n",
       "      <td>...</td>\n",
       "      <td>0.666667</td>\n",
       "      <td>0.666667</td>\n",
       "      <td>1.0</td>\n",
       "      <td>1.0</td>\n",
       "      <td>1.0</td>\n",
       "      <td>1.0</td>\n",
       "      <td>1.0</td>\n",
       "      <td>0.0</td>\n",
       "      <td>0.0</td>\n",
       "      <td>0.0</td>\n",
       "    </tr>\n",
       "    <tr>\n",
       "      <th>4</th>\n",
       "      <td>0.25</td>\n",
       "      <td>0.25</td>\n",
       "      <td>0.833333</td>\n",
       "      <td>0.833333</td>\n",
       "      <td>0.333333</td>\n",
       "      <td>0.6</td>\n",
       "      <td>0.6</td>\n",
       "      <td>1.0</td>\n",
       "      <td>1.0</td>\n",
       "      <td>0.833333</td>\n",
       "      <td>...</td>\n",
       "      <td>0.666667</td>\n",
       "      <td>0.666667</td>\n",
       "      <td>1.0</td>\n",
       "      <td>1.0</td>\n",
       "      <td>1.0</td>\n",
       "      <td>1.0</td>\n",
       "      <td>1.0</td>\n",
       "      <td>0.0</td>\n",
       "      <td>0.0</td>\n",
       "      <td>0.0</td>\n",
       "    </tr>\n",
       "  </tbody>\n",
       "</table>\n",
       "<p>5 rows × 33 columns</p>\n",
       "</div>"
      ],
      "text/plain": [
       "   #of A atoms  #of B atoms  Group no of A  Group no of B       A:B  Rownum A  \\\n",
       "0         0.25         0.25       0.500000       0.500000  0.333333       0.6   \n",
       "1         0.25         0.25       0.666667       0.666667  0.333333       0.6   \n",
       "2         0.25         0.25       0.666667       0.666667  0.333333       0.8   \n",
       "3         0.25         0.25       0.666667       0.666667  0.333333       1.0   \n",
       "4         0.25         0.25       0.833333       0.833333  0.333333       0.6   \n",
       "\n",
       "   Rownum B  sval A  sval B    dval A  ...   #of B neigh for A  \\\n",
       "0       0.6     1.0     1.0  0.500000  ...            0.666667   \n",
       "1       0.6     1.0     1.0  0.666667  ...            0.666667   \n",
       "2       0.8     1.0     1.0  0.666667  ...            0.666667   \n",
       "3       1.0     0.0     0.0  0.666667  ...            0.666667   \n",
       "4       0.6     1.0     1.0  0.833333  ...            0.666667   \n",
       "\n",
       "   #of A neigh for B  #of A neigh for N  #of B neigh for N  isNclosepacked  \\\n",
       "0           0.666667                1.0                1.0             1.0   \n",
       "1           0.666667                1.0                1.0             1.0   \n",
       "2           0.666667                1.0                1.0             1.0   \n",
       "3           0.666667                1.0                1.0             1.0   \n",
       "4           0.666667                1.0                1.0             1.0   \n",
       "\n",
       "   isMpacked  isrs  ishcpmetal  ishcpnitrogen  issh  \n",
       "0        1.0   1.0         0.0            0.0   0.0  \n",
       "1        1.0   1.0         0.0            0.0   0.0  \n",
       "2        1.0   1.0         0.0            0.0   0.0  \n",
       "3        1.0   1.0         0.0            0.0   0.0  \n",
       "4        1.0   1.0         0.0            0.0   0.0  \n",
       "\n",
       "[5 rows x 33 columns]"
      ]
     },
     "execution_count": 176,
     "metadata": {},
     "output_type": "execute_result"
    }
   ],
   "source": [
    "df_transformed_dataframe.head()"
   ]
  },
  {
   "cell_type": "code",
   "execution_count": 275,
   "metadata": {
    "collapsed": true
   },
   "outputs": [],
   "source": [
    "Y_test_enthalpy= np.array(Y_test_enthalpy)"
   ]
  },
  {
   "cell_type": "code",
   "execution_count": 276,
   "metadata": {},
   "outputs": [
    {
     "name": "stdout",
     "output_type": "stream",
     "text": [
      "0.149043805259\n",
      "0.149712130951\n",
      "0.672977176685\n",
      "0.419014402578\n"
     ]
    }
   ],
   "source": [
    "err_array=[];err_lin_array=[]\n",
    "for i in range(len(pred_svr_enthalpy)):\n",
    "    err = abs(pred_svr_enthalpy[i]-Y_test_enthalpy[i])\n",
    "    err_lin=abs(pred_linear_enthalpy[i]-Y_test_enthalpy[i])\n",
    "    err_array.append(err)\n",
    "    err_lin_array.append(err_lin)\n",
    "max_error = max(err_array)  \n",
    "max_error_lin = max(err_lin_array) \n",
    "print (np.mean(err_array))\n",
    "print (np.mean(err_lin_array))\n",
    "print (max_error)  \n",
    "print (max_error_lin)"
   ]
  },
  {
   "cell_type": "code",
   "execution_count": 290,
   "metadata": {},
   "outputs": [
    {
     "data": {
      "text/plain": [
       "<matplotlib.axes._subplots.AxesSubplot at 0x7f31ae157950>"
      ]
     },
     "execution_count": 290,
     "metadata": {},
     "output_type": "execute_result"
    }
   ],
   "source": [
    "sns.distplot(err_array,bins=100,kde = False)"
   ]
  },
  {
   "cell_type": "code",
   "execution_count": 291,
   "metadata": {},
   "outputs": [
    {
     "data": {
      "text/plain": [
       "<matplotlib.text.Text at 0x7f31ae2ec650>"
      ]
     },
     "execution_count": 291,
     "metadata": {},
     "output_type": "execute_result"
    }
   ],
   "source": [
    "plt.xlabel(\"Error in prediction in eV\")"
   ]
  },
  {
   "cell_type": "code",
   "execution_count": 292,
   "metadata": {},
   "outputs": [
    {
     "data": {
      "text/plain": [
       "<matplotlib.text.Text at 0x7f31ae221490>"
      ]
     },
     "execution_count": 292,
     "metadata": {},
     "output_type": "execute_result"
    }
   ],
   "source": [
    "plt.ylabel(\"# of samples\")"
   ]
  },
  {
   "cell_type": "code",
   "execution_count": 293,
   "metadata": {},
   "outputs": [
    {
     "data": {
      "text/plain": [
       "<matplotlib.text.Text at 0x7f31ae0659d0>"
      ]
     },
     "execution_count": 293,
     "metadata": {},
     "output_type": "execute_result"
    }
   ],
   "source": [
    "plt.title(\"Support vector regression\")"
   ]
  },
  {
   "cell_type": "code",
   "execution_count": 294,
   "metadata": {},
   "outputs": [
    {
     "data": {
      "image/png": "[encoded data removed]",
      "text/plain": [
       "<matplotlib.figure.Figure at 0x7f31ae47f910>"
      ]
     },
     "metadata": {},
     "output_type": "display_data"
    }
   ],
   "source": [
    "plt.show()"
   ]
  },
  {
   "cell_type": "code",
   "execution_count": 301,
   "metadata": {},
   "outputs": [
    {
     "data": {
      "text/plain": [
       "<matplotlib.axes._subplots.AxesSubplot at 0x7f31add599d0>"
      ]
     },
     "execution_count": 301,
     "metadata": {},
     "output_type": "execute_result"
    }
   ],
   "source": [
    "sns.distplot(err_lin_array,bins=100,kde=False)"
   ]
  },
  {
   "cell_type": "code",
   "execution_count": 302,
   "metadata": {},
   "outputs": [
    {
     "data": {
      "text/plain": [
       "<matplotlib.text.Text at 0x7f31adbebf90>"
      ]
     },
     "execution_count": 302,
     "metadata": {},
     "output_type": "execute_result"
    }
   ],
   "source": [
    "plt.xlabel(\"Error in prediction in eV\")"
   ]
  },
  {
   "cell_type": "code",
   "execution_count": 303,
   "metadata": {},
   "outputs": [
    {
     "data": {
      "text/plain": [
       "<matplotlib.text.Text at 0x7f31adb2cfd0>"
      ]
     },
     "execution_count": 303,
     "metadata": {},
     "output_type": "execute_result"
    }
   ],
   "source": [
    "plt.ylabel(\"# of samples\")"
   ]
  },
  {
   "cell_type": "code",
   "execution_count": 304,
   "metadata": {},
   "outputs": [
    {
     "data": {
      "text/plain": [
       "<matplotlib.text.Text at 0x7f31ad8d9950>"
      ]
     },
     "execution_count": 304,
     "metadata": {},
     "output_type": "execute_result"
    }
   ],
   "source": [
    "plt.title(\"Linear regression\")"
   ]
  },
  {
   "cell_type": "code",
   "execution_count": 305,
   "metadata": {},
   "outputs": [
    {
     "data": {
      "image/png": "[encoded data removed]",
      "text/plain": [
       "<matplotlib.figure.Figure at 0x7f31add27e50>"
      ]
     },
     "metadata": {},
     "output_type": "display_data"
    }
   ],
   "source": [
    "plt.show()"
   ]
  },
  {
   "cell_type": "code",
   "execution_count": 306,
   "metadata": {},
   "outputs": [
    {
     "ename": "AttributeError",
     "evalue": "'SVR' object has no attribute 'feature_importances_'",
     "output_type": "error",
     "traceback": [
      "\u001b[0;31m---------------------------------------------------------------------------\u001b[0m",
      "\u001b[0;31mAttributeError\u001b[0m                            Traceback (most recent call last)",
      "\u001b[0;32m<ipython-input-306-8d6f9e69dd40>\u001b[0m in \u001b[0;36m<module>\u001b[0;34m()\u001b[0m\n\u001b[0;32m----> 1\u001b[0;31m \u001b[0mclf_svr_enthalpy\u001b[0m\u001b[0;34m.\u001b[0m\u001b[0mfeature_importances_\u001b[0m\u001b[0;34m\u001b[0m\u001b[0m\n\u001b[0m",
      "\u001b[0;31mAttributeError\u001b[0m: 'SVR' object has no attribute 'feature_importances_'"
     ]
    }
   ],
   "source": [
    " clf_svr_enthalpy.feature_importances_"
   ]
  },
  {
   "cell_type": "code",
   "execution_count": 184,
   "metadata": {
    "collapsed": true
   },
   "outputs": [],
   "source": [
    "sum=0\n",
    "for i in range(len( clf_random_enthalpy.feature_importances_)):\n",
    "    sum += clf_random_enthalpy.feature_importances_[i]"
   ]
  },
  {
   "cell_type": "code",
   "execution_count": 185,
   "metadata": {},
   "outputs": [
    {
     "data": {
      "text/plain": [
       "Index([       u'#of A atoms',        u'#of B atoms',      u'Group no of A',\n",
       "            u'Group no of B',                u'A:B',           u'Rownum A',\n",
       "                 u'Rownum B',             u'sval A',             u'sval B',\n",
       "                   u'dval A',             u'dval B',       u'electroneg A',\n",
       "             u'electroneg B',               u'radA',               u'radB',\n",
       "                    u'cradA',              u'cradB',            u'Mmass A',\n",
       "                  u'Mmass B', u'Atomic number of A', u'Atomic number of B',\n",
       "              u'NN_A_native',        u'NN_B_native',  u'#of B neigh for A',\n",
       "        u'#of A neigh for B',  u'#of A neigh for N',  u'#of B neigh for N',\n",
       "           u'isNclosepacked',          u'isMpacked',               u'isrs',\n",
       "               u'ishcpmetal',      u'ishcpnitrogen',               u'issh'],\n",
       "      dtype='object')"
      ]
     },
     "execution_count": 185,
     "metadata": {},
     "output_type": "execute_result"
    }
   ],
   "source": [
    "df_transformed_dataframe.columns"
   ]
  },
  {
   "cell_type": "code",
   "execution_count": 186,
   "metadata": {},
   "outputs": [],
   "source": [
    "feature_normalized=[]\n",
    "for i in range(len( clf_random_enthalpy.feature_importances_)):\n",
    "    feature_normalized.append(clf_random_enthalpy.feature_importances_[i]/sum)"
   ]
  },
  {
   "cell_type": "code",
   "execution_count": 187,
   "metadata": {},
   "outputs": [
    {
     "data": {
      "text/plain": [
       "[0.037889618227811665,\n",
       " 0.007086137141730604,\n",
       " 0.065127737726126331,\n",
       " 0.20605277065141631,\n",
       " 0.079050897309503043,\n",
       " 0.0036380295307999284,\n",
       " 0.0064669616249343224,\n",
       " 0.00054503978625028654,\n",
       " 0.00040969094275904492,\n",
       " 0.031648137113796174,\n",
       " 0.1228259307875989,\n",
       " 0.025925039140224218,\n",
       " 0.21273615984598021,\n",
       " 0.0023173686067526106,\n",
       " 0.0026673266462687324,\n",
       " 0.006262275941793574,\n",
       " 0.012668249912788976,\n",
       " 0.0038195655415852047,\n",
       " 0.0038339305974213283,\n",
       " 0.0069155354488099948,\n",
       " 0.00075992067972504066,\n",
       " 0.022641879850393832,\n",
       " 0.00040944571895257286,\n",
       " 0.049635858133273335,\n",
       " 0.031367430408346726,\n",
       " 0.0083744976578357718,\n",
       " 0.0023601292789410516,\n",
       " 0.0062737850913441636,\n",
       " 0.0094226764213331329,\n",
       " 0.0021066897099261167,\n",
       " 0.0029380180600524445,\n",
       " 0.022054744453965602,\n",
       " 0.0037685220115585738]"
      ]
     },
     "execution_count": 187,
     "metadata": {},
     "output_type": "execute_result"
    }
   ],
   "source": [
    "feature_normalized"
   ]
  },
  {
   "cell_type": "code",
   "execution_count": 188,
   "metadata": {},
   "outputs": [
    {
     "data": {
      "text/plain": [
       "<Container object of 33 artists>"
      ]
     },
     "execution_count": 188,
     "metadata": {},
     "output_type": "execute_result"
    }
   ],
   "source": [
    "plt.bar(np.arange(len(feature_normalized)),feature_normalized)"
   ]
  },
  {
   "cell_type": "code",
   "execution_count": 189,
   "metadata": {},
   "outputs": [
    {
     "data": {
      "image/png": "[encoded data removed]",
      "text/plain": [
       "<matplotlib.figure.Figure at 0x7f31afdfaed0>"
      ]
     },
     "metadata": {},
     "output_type": "display_data"
    }
   ],
   "source": [
    "plt.show()"
   ]
  },
  {
   "cell_type": "code",
   "execution_count": 190,
   "metadata": {
    "collapsed": true
   },
   "outputs": [],
   "source": [
    "from sklearn.preprocessing import normalize"
   ]
  },
  {
   "cell_type": "code",
   "execution_count": 191,
   "metadata": {
    "collapsed": true
   },
   "outputs": [],
   "source": [
    "output = clf_random_enthalpy.predict(df_transformed_dataframe_topredict)"
   ]
  },
  {
   "cell_type": "code",
   "execution_count": 102,
   "metadata": {
    "collapsed": true
   },
   "outputs": [],
   "source": [
    "output1 = DataFrame(output)"
   ]
  },
  {
   "cell_type": "code",
   "execution_count": 103,
   "metadata": {
    "collapsed": true
   },
   "outputs": [],
   "source": [
    "writer = pd.ExcelWriter('output_predicted.xlsx')\n",
    "output1.to_excel(writer,'Sheet1')\n",
    "writer.save()"
   ]
  },
  {
   "cell_type": "code",
   "execution_count": null,
   "metadata": {
    "collapsed": true
   },
   "outputs": [],
   "source": []
  }
 ],
 "metadata": {
  "kernelspec": {
   "display_name": "Python 2",
   "language": "python",
   "name": "python2"
  },
  "language_info": {
   "codemirror_mode": {
    "name": "ipython",
    "version": 2
   },
   "file_extension": ".py",
   "mimetype": "text/x-python",
   "name": "python",
   "nbconvert_exporter": "python",
   "pygments_lexer": "ipython2",
   "version": "2.7.12"
  }
 },
 "nbformat": 4,
 "nbformat_minor": 2
}
